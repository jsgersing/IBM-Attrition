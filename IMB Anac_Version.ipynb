{
 "cells": [
  {
   "cell_type": "code",
   "execution_count": 1,
   "id": "df38c319",
   "metadata": {},
   "outputs": [
    {
     "name": "stdout",
     "output_type": "stream",
     "text": [
      "Collecting package metadata (current_repodata.json): done\n",
      "Solving environment: / \n",
      "The environment is inconsistent, please check the package plan carefully\n",
      "The following packages are causing the inconsistency:\n",
      "\n",
      "  - conda-forge/noarch::pdpbox==0.2.1=pyhd8ed1ab_0\n",
      "  - conda-forge/noarch::imbalanced-learn==0.7.0=py_1\n",
      "  - defaults/noarch::category_encoders==2.2.2=pyhd3eb1b0_0\n",
      "  - defaults/osx-64::xgboost==1.5.0=py39hecd8cb5_1\n",
      "  - defaults/osx-64::shap==0.39.0=py39hb2f4e1b_0\n",
      "  - defaults/osx-64::scikit-learn-intelex==2021.3.0=py39hecd8cb5_0\n",
      "  - defaults/osx-64::anaconda==2021.11=py39_0\n",
      "  - defaults/osx-64::py-xgboost==1.5.0=py39hecd8cb5_1\n",
      "done\n",
      "\n",
      "## Package Plan ##\n",
      "\n",
      "  environment location: /Users/jasongersing/opt/anaconda3\n",
      "\n",
      "  added / updated specs:\n",
      "    - imbalanced-learn\n",
      "\n",
      "\n",
      "The following packages will be downloaded:\n",
      "\n",
      "    package                    |            build\n",
      "    ---------------------------|-----------------\n",
      "    _anaconda_depends-2021.11  |           py39_0           7 KB\n",
      "    anaconda-custom            |           py39_1           4 KB\n",
      "    ca-certificates-2021.10.8  |       h033912b_0         139 KB  conda-forge\n",
      "    certifi-2021.10.8          |   py39h6e9494a_1         145 KB  conda-forge\n",
      "    openssl-1.1.1l             |       h0d85af4_0         1.9 MB  conda-forge\n",
      "    scikit-learn-1.0.2         |   py39hae1ba45_1         5.3 MB\n",
      "    ------------------------------------------------------------\n",
      "                                           Total:         7.4 MB\n",
      "\n",
      "The following NEW packages will be INSTALLED:\n",
      "\n",
      "  _anaconda_depends  pkgs/main/osx-64::_anaconda_depends-2021.11-py39_0\n",
      "  scikit-learn       pkgs/main/osx-64::scikit-learn-1.0.2-py39hae1ba45_1\n",
      "\n",
      "The following packages will be UPDATED:\n",
      "\n",
      "  certifi            pkgs/main::certifi-2021.10.8-py39hecd~ --> conda-forge::certifi-2021.10.8-py39h6e9494a_1\n",
      "\n",
      "The following packages will be SUPERSEDED by a higher-priority channel:\n",
      "\n",
      "  ca-certificates    pkgs/main::ca-certificates-2021.10.26~ --> conda-forge::ca-certificates-2021.10.8-h033912b_0\n",
      "  conda              pkgs/main::conda-4.11.0-py39hecd8cb5_0 --> conda-forge::conda-4.11.0-py39h6e9494a_0\n",
      "  openssl              pkgs/main::openssl-1.1.1l-h9ed2024_0 --> conda-forge::openssl-1.1.1l-h0d85af4_0\n",
      "\n",
      "The following packages will be DOWNGRADED:\n",
      "\n",
      "  anaconda                                   2021.11-py39_0 --> custom-py39_1\n",
      "\n",
      "\n",
      "\n",
      "Downloading and Extracting Packages\n",
      "_anaconda_depends-20 | 7 KB      | ##################################### | 100% \n",
      "anaconda-custom      | 4 KB      | ##################################### | 100% \n",
      "ca-certificates-2021 | 139 KB    | ##################################### | 100% \n",
      "openssl-1.1.1l       | 1.9 MB    | ##################################### | 100% \n",
      "scikit-learn-1.0.2   | 5.3 MB    | ##################################### | 100% \n",
      "certifi-2021.10.8    | 145 KB    | ##################################### | 100% \n",
      "Preparing transaction: done\n",
      "Verifying transaction: done\n",
      "Executing transaction: \\ \n",
      "\n",
      "    Installed package of scikit-learn can be accelerated using scikit-learn-intelex.\n",
      "    More details are available here: https://intel.github.io/scikit-learn-intelex\n",
      "\n",
      "    For example:\n",
      "\n",
      "        $ conda install scikit-learn-intelex\n",
      "        $ python -m sklearnex my_application.py\n",
      "\n",
      "    \n",
      "\n",
      "done\n",
      "\n",
      "Note: you may need to restart the kernel to use updated packages.\n"
     ]
    }
   ],
   "source": [
    "conda install -c conda-forge imbalanced-learn"
   ]
  },
  {
   "cell_type": "code",
   "execution_count": 2,
   "id": "a46fb1c9",
   "metadata": {},
   "outputs": [
    {
     "name": "stdout",
     "output_type": "stream",
     "text": [
      "Collecting package metadata (current_repodata.json): done\n",
      "Solving environment: done\n",
      "\n",
      "# All requested packages already installed.\n",
      "\n",
      "\n",
      "Note: you may need to restart the kernel to use updated packages.\n"
     ]
    }
   ],
   "source": [
    "conda install -c conda-forge pdpbox"
   ]
  },
  {
   "cell_type": "code",
   "execution_count": 49,
   "id": "e6291a01",
   "metadata": {},
   "outputs": [
    {
     "name": "stdout",
     "output_type": "stream",
     "text": [
      "Collecting package metadata (current_repodata.json): done\n",
      "Solving environment: done\n",
      "\n",
      "## Package Plan ##\n",
      "\n",
      "  environment location: /Users/jasongersing/opt/anaconda3\n",
      "\n",
      "  added / updated specs:\n",
      "    - ipywidgets\n",
      "\n",
      "\n",
      "The following packages will be downloaded:\n",
      "\n",
      "    package                    |            build\n",
      "    ---------------------------|-----------------\n",
      "    ipywidgets-7.6.5           |     pyhd8ed1ab_0         101 KB  conda-forge\n",
      "    ------------------------------------------------------------\n",
      "                                           Total:         101 KB\n",
      "\n",
      "The following packages will be SUPERSEDED by a higher-priority channel:\n",
      "\n",
      "  ipywidgets         pkgs/main::ipywidgets-7.6.5-pyhd3eb1b~ --> conda-forge::ipywidgets-7.6.5-pyhd8ed1ab_0\n",
      "\n",
      "\n",
      "\n",
      "Downloading and Extracting Packages\n",
      "ipywidgets-7.6.5     | 101 KB    | ##################################### | 100% \n",
      "Preparing transaction: done\n",
      "Verifying transaction: done\n",
      "Executing transaction: done\n",
      "\n",
      "Note: you may need to restart the kernel to use updated packages.\n"
     ]
    }
   ],
   "source": [
    "conda install -c conda-forge ipywidgets"
   ]
  },
  {
   "cell_type": "code",
   "execution_count": 47,
   "id": "1c7a9db5",
   "metadata": {},
   "outputs": [],
   "source": [
    "import pandas as pd\n",
    "import numpy as np\n",
    "import matplotlib.pyplot as plt\n",
    "from sklearn.pipeline import make_pipeline\n",
    "from sklearn.impute import SimpleImputer\n",
    "from sklearn.preprocessing import StandardScaler\n",
    "from sklearn.ensemble import RandomForestClassifier\n",
    "from category_encoders import OrdinalEncoder, OneHotEncoder\n",
    "from sklearn.linear_model import LogisticRegression\n",
    "from sklearn.metrics import accuracy_score, plot_confusion_matrix, classification_report, plot_roc_curve, roc_auc_score\n",
    "from sklearn.ensemble import GradientBoostingClassifier\n",
    "from xgboost import XGBClassifier \n",
    "from xgboost import XGBRegressor\n",
    "from sklearn.inspection import permutation_importance \n",
    "from sklearn.model_selection import train_test_split\n",
    "from imblearn.over_sampling import SMOTE\n",
    "from pdpbox.pdp import pdp_isolate, pdp_plot, pdp_interact, pdp_interact_plot\n",
    "import ipywidgets\n",
    "import shap\n",
    "import warnings\n",
    "warnings.filterwarnings(action='ignore', category=FutureWarning, module='xgboost')"
   ]
  },
  {
   "cell_type": "code",
   "execution_count": 48,
   "id": "31398230",
   "metadata": {},
   "outputs": [
    {
     "data": {
      "text/html": [
       "<div>\n",
       "<style scoped>\n",
       "    .dataframe tbody tr th:only-of-type {\n",
       "        vertical-align: middle;\n",
       "    }\n",
       "\n",
       "    .dataframe tbody tr th {\n",
       "        vertical-align: top;\n",
       "    }\n",
       "\n",
       "    .dataframe thead th {\n",
       "        text-align: right;\n",
       "    }\n",
       "</style>\n",
       "<table border=\"1\" class=\"dataframe\">\n",
       "  <thead>\n",
       "    <tr style=\"text-align: right;\">\n",
       "      <th></th>\n",
       "      <th>Age</th>\n",
       "      <th>Attrition</th>\n",
       "      <th>BusinessTravel</th>\n",
       "      <th>DailyRate</th>\n",
       "      <th>Department</th>\n",
       "      <th>DistanceFromHome</th>\n",
       "      <th>Education</th>\n",
       "      <th>EducationField</th>\n",
       "      <th>EmployeeCount</th>\n",
       "      <th>EmployeeNumber</th>\n",
       "      <th>...</th>\n",
       "      <th>RelationshipSatisfaction</th>\n",
       "      <th>StandardHours</th>\n",
       "      <th>StockOptionLevel</th>\n",
       "      <th>TotalWorkingYears</th>\n",
       "      <th>TrainingTimesLastYear</th>\n",
       "      <th>WorkLifeBalance</th>\n",
       "      <th>YearsAtCompany</th>\n",
       "      <th>YearsInCurrentRole</th>\n",
       "      <th>YearsSinceLastPromotion</th>\n",
       "      <th>YearsWithCurrManager</th>\n",
       "    </tr>\n",
       "  </thead>\n",
       "  <tbody>\n",
       "    <tr>\n",
       "      <th>0</th>\n",
       "      <td>41</td>\n",
       "      <td>Yes</td>\n",
       "      <td>Travel_Rarely</td>\n",
       "      <td>1102</td>\n",
       "      <td>Sales</td>\n",
       "      <td>1</td>\n",
       "      <td>2</td>\n",
       "      <td>Life Sciences</td>\n",
       "      <td>1</td>\n",
       "      <td>1</td>\n",
       "      <td>...</td>\n",
       "      <td>1</td>\n",
       "      <td>80</td>\n",
       "      <td>0</td>\n",
       "      <td>8</td>\n",
       "      <td>0</td>\n",
       "      <td>1</td>\n",
       "      <td>6</td>\n",
       "      <td>4</td>\n",
       "      <td>0</td>\n",
       "      <td>5</td>\n",
       "    </tr>\n",
       "    <tr>\n",
       "      <th>1</th>\n",
       "      <td>49</td>\n",
       "      <td>No</td>\n",
       "      <td>Travel_Frequently</td>\n",
       "      <td>279</td>\n",
       "      <td>Research &amp; Development</td>\n",
       "      <td>8</td>\n",
       "      <td>1</td>\n",
       "      <td>Life Sciences</td>\n",
       "      <td>1</td>\n",
       "      <td>2</td>\n",
       "      <td>...</td>\n",
       "      <td>4</td>\n",
       "      <td>80</td>\n",
       "      <td>1</td>\n",
       "      <td>10</td>\n",
       "      <td>3</td>\n",
       "      <td>3</td>\n",
       "      <td>10</td>\n",
       "      <td>7</td>\n",
       "      <td>1</td>\n",
       "      <td>7</td>\n",
       "    </tr>\n",
       "    <tr>\n",
       "      <th>2</th>\n",
       "      <td>37</td>\n",
       "      <td>Yes</td>\n",
       "      <td>Travel_Rarely</td>\n",
       "      <td>1373</td>\n",
       "      <td>Research &amp; Development</td>\n",
       "      <td>2</td>\n",
       "      <td>2</td>\n",
       "      <td>Other</td>\n",
       "      <td>1</td>\n",
       "      <td>4</td>\n",
       "      <td>...</td>\n",
       "      <td>2</td>\n",
       "      <td>80</td>\n",
       "      <td>0</td>\n",
       "      <td>7</td>\n",
       "      <td>3</td>\n",
       "      <td>3</td>\n",
       "      <td>0</td>\n",
       "      <td>0</td>\n",
       "      <td>0</td>\n",
       "      <td>0</td>\n",
       "    </tr>\n",
       "    <tr>\n",
       "      <th>3</th>\n",
       "      <td>33</td>\n",
       "      <td>No</td>\n",
       "      <td>Travel_Frequently</td>\n",
       "      <td>1392</td>\n",
       "      <td>Research &amp; Development</td>\n",
       "      <td>3</td>\n",
       "      <td>4</td>\n",
       "      <td>Life Sciences</td>\n",
       "      <td>1</td>\n",
       "      <td>5</td>\n",
       "      <td>...</td>\n",
       "      <td>3</td>\n",
       "      <td>80</td>\n",
       "      <td>0</td>\n",
       "      <td>8</td>\n",
       "      <td>3</td>\n",
       "      <td>3</td>\n",
       "      <td>8</td>\n",
       "      <td>7</td>\n",
       "      <td>3</td>\n",
       "      <td>0</td>\n",
       "    </tr>\n",
       "    <tr>\n",
       "      <th>4</th>\n",
       "      <td>27</td>\n",
       "      <td>No</td>\n",
       "      <td>Travel_Rarely</td>\n",
       "      <td>591</td>\n",
       "      <td>Research &amp; Development</td>\n",
       "      <td>2</td>\n",
       "      <td>1</td>\n",
       "      <td>Medical</td>\n",
       "      <td>1</td>\n",
       "      <td>7</td>\n",
       "      <td>...</td>\n",
       "      <td>4</td>\n",
       "      <td>80</td>\n",
       "      <td>1</td>\n",
       "      <td>6</td>\n",
       "      <td>3</td>\n",
       "      <td>3</td>\n",
       "      <td>2</td>\n",
       "      <td>2</td>\n",
       "      <td>2</td>\n",
       "      <td>2</td>\n",
       "    </tr>\n",
       "  </tbody>\n",
       "</table>\n",
       "<p>5 rows × 35 columns</p>\n",
       "</div>"
      ],
      "text/plain": [
       "   Age Attrition     BusinessTravel  DailyRate              Department  \\\n",
       "0   41       Yes      Travel_Rarely       1102                   Sales   \n",
       "1   49        No  Travel_Frequently        279  Research & Development   \n",
       "2   37       Yes      Travel_Rarely       1373  Research & Development   \n",
       "3   33        No  Travel_Frequently       1392  Research & Development   \n",
       "4   27        No      Travel_Rarely        591  Research & Development   \n",
       "\n",
       "   DistanceFromHome  Education EducationField  EmployeeCount  EmployeeNumber  \\\n",
       "0                 1          2  Life Sciences              1               1   \n",
       "1                 8          1  Life Sciences              1               2   \n",
       "2                 2          2          Other              1               4   \n",
       "3                 3          4  Life Sciences              1               5   \n",
       "4                 2          1        Medical              1               7   \n",
       "\n",
       "   ...  RelationshipSatisfaction StandardHours  StockOptionLevel  \\\n",
       "0  ...                         1            80                 0   \n",
       "1  ...                         4            80                 1   \n",
       "2  ...                         2            80                 0   \n",
       "3  ...                         3            80                 0   \n",
       "4  ...                         4            80                 1   \n",
       "\n",
       "   TotalWorkingYears  TrainingTimesLastYear WorkLifeBalance  YearsAtCompany  \\\n",
       "0                  8                      0               1               6   \n",
       "1                 10                      3               3              10   \n",
       "2                  7                      3               3               0   \n",
       "3                  8                      3               3               8   \n",
       "4                  6                      3               3               2   \n",
       "\n",
       "  YearsInCurrentRole  YearsSinceLastPromotion  YearsWithCurrManager  \n",
       "0                  4                        0                     5  \n",
       "1                  7                        1                     7  \n",
       "2                  0                        0                     0  \n",
       "3                  7                        3                     0  \n",
       "4                  2                        2                     2  \n",
       "\n",
       "[5 rows x 35 columns]"
      ]
     },
     "execution_count": 48,
     "metadata": {},
     "output_type": "execute_result"
    }
   ],
   "source": [
    "df = pd.read_csv('/Users/jasongersing/Desktop/DS Projects/WA_Fn-UseC_-HR-Employee-Attrition 2.csv')\n",
    "df.head()"
   ]
  },
  {
   "cell_type": "code",
   "execution_count": 49,
   "id": "6cd537e9",
   "metadata": {},
   "outputs": [],
   "source": [
    "def wrangle(df):\n",
    "    \n",
    "    # Dropping columns with high number of NaN values\n",
    "    df.dropna(axis=1, thresh=500, inplace = True)\n",
    "        \n",
    "    # Dropping columns with unique values\n",
    "    df.drop(columns=['EmployeeNumber'], inplace=True)\n",
    "    \n",
    "    # Dropping columns with constant values\n",
    "    df.drop(columns=['EmployeeCount', 'Over18', 'StandardHours'], inplace=True)\n",
    "\n",
    "    # Clean binary encoded columns\n",
    "    df['Attrition'] = (df['Attrition'] == 'Yes').astype(int)\n",
    "    df['Gender'] = (df['Gender'] == 'Male').astype(int)\n",
    "    df['MaritalStatus'] = (df['MaritalStatus'] == 'Married').astype(int)\n",
    "    df['OverTime'] = (df['OverTime'] == 'Yes').astype(int)\n",
    "    \n",
    "    # Brute force OneHotEncoder\n",
    "    dept = ['Research & Development', 'Sales', 'Human Resources']\n",
    "    for dept in df['Department']:\n",
    "      df[dept] = (df['Department'].str.contains(dept, regex=True)).astype(int)\n",
    "\n",
    "    field = ['Life Sciences', 'Medical', 'Marketing', 'Technical Degree', 'Other', 'Human Resources']\n",
    "    for field in df['EducationField']:\n",
    "      df[field] = (df['EducationField'].str.contains(dept, regex=True)).astype(int)\n",
    "\n",
    "    role = ['Sales Executive', 'Research Scientist', 'Laboratory Technician', 'Manufactoring Director', 'Healthcare Representative', 'Manager', 'Sales Representative', 'Research Director', 'Human Resources']\n",
    "    for role in df['JobRole']:\n",
    "      df[role] = (df['JobRole'].str.contains(dept, regex=True)).astype(int)\n",
    "\n",
    "    # Brute force OrdinalEncoder\n",
    "    df['BusinessTravel'] = pd.factorize(df['BusinessTravel'])[0]\n",
    "\n",
    "    df = df.drop(columns=['Department', 'EducationField', 'JobRole'])\n",
    "    \n",
    "    \n",
    "    return df\n",
    "\n",
    "df = wrangle(df)"
   ]
  },
  {
   "cell_type": "code",
   "execution_count": 50,
   "id": "5988c4f9",
   "metadata": {},
   "outputs": [
    {
     "data": {
      "text/html": [
       "<div>\n",
       "<style scoped>\n",
       "    .dataframe tbody tr th:only-of-type {\n",
       "        vertical-align: middle;\n",
       "    }\n",
       "\n",
       "    .dataframe tbody tr th {\n",
       "        vertical-align: top;\n",
       "    }\n",
       "\n",
       "    .dataframe thead th {\n",
       "        text-align: right;\n",
       "    }\n",
       "</style>\n",
       "<table border=\"1\" class=\"dataframe\">\n",
       "  <thead>\n",
       "    <tr style=\"text-align: right;\">\n",
       "      <th></th>\n",
       "      <th>Age</th>\n",
       "      <th>Attrition</th>\n",
       "      <th>BusinessTravel</th>\n",
       "      <th>DailyRate</th>\n",
       "      <th>DistanceFromHome</th>\n",
       "      <th>Education</th>\n",
       "      <th>EnvironmentSatisfaction</th>\n",
       "      <th>Gender</th>\n",
       "      <th>HourlyRate</th>\n",
       "      <th>JobInvolvement</th>\n",
       "      <th>...</th>\n",
       "      <th>Marketing</th>\n",
       "      <th>Technical Degree</th>\n",
       "      <th>Sales Executive</th>\n",
       "      <th>Research Scientist</th>\n",
       "      <th>Laboratory Technician</th>\n",
       "      <th>Manufacturing Director</th>\n",
       "      <th>Healthcare Representative</th>\n",
       "      <th>Manager</th>\n",
       "      <th>Sales Representative</th>\n",
       "      <th>Research Director</th>\n",
       "    </tr>\n",
       "  </thead>\n",
       "  <tbody>\n",
       "    <tr>\n",
       "      <th>0</th>\n",
       "      <td>41</td>\n",
       "      <td>1</td>\n",
       "      <td>0</td>\n",
       "      <td>1102</td>\n",
       "      <td>1</td>\n",
       "      <td>2</td>\n",
       "      <td>2</td>\n",
       "      <td>0</td>\n",
       "      <td>94</td>\n",
       "      <td>3</td>\n",
       "      <td>...</td>\n",
       "      <td>0</td>\n",
       "      <td>0</td>\n",
       "      <td>0</td>\n",
       "      <td>0</td>\n",
       "      <td>0</td>\n",
       "      <td>0</td>\n",
       "      <td>0</td>\n",
       "      <td>0</td>\n",
       "      <td>0</td>\n",
       "      <td>0</td>\n",
       "    </tr>\n",
       "    <tr>\n",
       "      <th>1</th>\n",
       "      <td>49</td>\n",
       "      <td>0</td>\n",
       "      <td>1</td>\n",
       "      <td>279</td>\n",
       "      <td>8</td>\n",
       "      <td>1</td>\n",
       "      <td>3</td>\n",
       "      <td>1</td>\n",
       "      <td>61</td>\n",
       "      <td>2</td>\n",
       "      <td>...</td>\n",
       "      <td>0</td>\n",
       "      <td>0</td>\n",
       "      <td>0</td>\n",
       "      <td>0</td>\n",
       "      <td>0</td>\n",
       "      <td>0</td>\n",
       "      <td>0</td>\n",
       "      <td>0</td>\n",
       "      <td>0</td>\n",
       "      <td>0</td>\n",
       "    </tr>\n",
       "    <tr>\n",
       "      <th>2</th>\n",
       "      <td>37</td>\n",
       "      <td>1</td>\n",
       "      <td>0</td>\n",
       "      <td>1373</td>\n",
       "      <td>2</td>\n",
       "      <td>2</td>\n",
       "      <td>4</td>\n",
       "      <td>1</td>\n",
       "      <td>92</td>\n",
       "      <td>2</td>\n",
       "      <td>...</td>\n",
       "      <td>0</td>\n",
       "      <td>0</td>\n",
       "      <td>0</td>\n",
       "      <td>0</td>\n",
       "      <td>0</td>\n",
       "      <td>0</td>\n",
       "      <td>0</td>\n",
       "      <td>0</td>\n",
       "      <td>0</td>\n",
       "      <td>0</td>\n",
       "    </tr>\n",
       "    <tr>\n",
       "      <th>3</th>\n",
       "      <td>33</td>\n",
       "      <td>0</td>\n",
       "      <td>1</td>\n",
       "      <td>1392</td>\n",
       "      <td>3</td>\n",
       "      <td>4</td>\n",
       "      <td>4</td>\n",
       "      <td>0</td>\n",
       "      <td>56</td>\n",
       "      <td>3</td>\n",
       "      <td>...</td>\n",
       "      <td>0</td>\n",
       "      <td>0</td>\n",
       "      <td>0</td>\n",
       "      <td>0</td>\n",
       "      <td>0</td>\n",
       "      <td>0</td>\n",
       "      <td>0</td>\n",
       "      <td>0</td>\n",
       "      <td>0</td>\n",
       "      <td>0</td>\n",
       "    </tr>\n",
       "    <tr>\n",
       "      <th>4</th>\n",
       "      <td>27</td>\n",
       "      <td>0</td>\n",
       "      <td>0</td>\n",
       "      <td>591</td>\n",
       "      <td>2</td>\n",
       "      <td>1</td>\n",
       "      <td>1</td>\n",
       "      <td>1</td>\n",
       "      <td>40</td>\n",
       "      <td>3</td>\n",
       "      <td>...</td>\n",
       "      <td>0</td>\n",
       "      <td>0</td>\n",
       "      <td>0</td>\n",
       "      <td>0</td>\n",
       "      <td>0</td>\n",
       "      <td>0</td>\n",
       "      <td>0</td>\n",
       "      <td>0</td>\n",
       "      <td>0</td>\n",
       "      <td>0</td>\n",
       "    </tr>\n",
       "  </tbody>\n",
       "</table>\n",
       "<p>5 rows × 44 columns</p>\n",
       "</div>"
      ],
      "text/plain": [
       "   Age  Attrition  BusinessTravel  DailyRate  DistanceFromHome  Education  \\\n",
       "0   41          1               0       1102                 1          2   \n",
       "1   49          0               1        279                 8          1   \n",
       "2   37          1               0       1373                 2          2   \n",
       "3   33          0               1       1392                 3          4   \n",
       "4   27          0               0        591                 2          1   \n",
       "\n",
       "   EnvironmentSatisfaction  Gender  HourlyRate  JobInvolvement  ...  \\\n",
       "0                        2       0          94               3  ...   \n",
       "1                        3       1          61               2  ...   \n",
       "2                        4       1          92               2  ...   \n",
       "3                        4       0          56               3  ...   \n",
       "4                        1       1          40               3  ...   \n",
       "\n",
       "   Marketing  Technical Degree  Sales Executive  Research Scientist  \\\n",
       "0          0                 0                0                   0   \n",
       "1          0                 0                0                   0   \n",
       "2          0                 0                0                   0   \n",
       "3          0                 0                0                   0   \n",
       "4          0                 0                0                   0   \n",
       "\n",
       "   Laboratory Technician  Manufacturing Director  Healthcare Representative  \\\n",
       "0                      0                       0                          0   \n",
       "1                      0                       0                          0   \n",
       "2                      0                       0                          0   \n",
       "3                      0                       0                          0   \n",
       "4                      0                       0                          0   \n",
       "\n",
       "   Manager  Sales Representative  Research Director  \n",
       "0        0                     0                  0  \n",
       "1        0                     0                  0  \n",
       "2        0                     0                  0  \n",
       "3        0                     0                  0  \n",
       "4        0                     0                  0  \n",
       "\n",
       "[5 rows x 44 columns]"
      ]
     },
     "execution_count": 50,
     "metadata": {},
     "output_type": "execute_result"
    }
   ],
   "source": [
    "df.head()"
   ]
  },
  {
   "cell_type": "code",
   "execution_count": 51,
   "id": "9aa8e5b4",
   "metadata": {},
   "outputs": [],
   "source": [
    "target = 'Attrition'\n",
    "y = df[target]\n",
    "X = df.drop(columns=[target])"
   ]
  },
  {
   "cell_type": "code",
   "execution_count": 52,
   "id": "99654da7",
   "metadata": {},
   "outputs": [],
   "source": [
    "X_train, X_val, y_train, y_val = train_test_split(X, y, test_size=.4, random_state=42)"
   ]
  },
  {
   "cell_type": "code",
   "execution_count": 53,
   "id": "0bfa09fb",
   "metadata": {},
   "outputs": [],
   "source": [
    "X_val, X_test, y_val, y_test = train_test_split(X_val, y_val, test_size=.5, random_state=42)"
   ]
  },
  {
   "cell_type": "code",
   "execution_count": 54,
   "id": "a6e03536",
   "metadata": {},
   "outputs": [
    {
     "data": {
      "text/plain": [
       "True"
      ]
     },
     "execution_count": 54,
     "metadata": {},
     "output_type": "execute_result"
    }
   ],
   "source": [
    "# Sanity check\n",
    "len(X_train) + len(X_val) + len(X_test) == len(X)"
   ]
  },
  {
   "cell_type": "code",
   "execution_count": 55,
   "id": "451ada66",
   "metadata": {},
   "outputs": [
    {
     "data": {
      "text/plain": [
       "((1470, 43), (882, 43), (294, 43), (294, 43))"
      ]
     },
     "execution_count": 55,
     "metadata": {},
     "output_type": "execute_result"
    }
   ],
   "source": [
    "X.shape, X_train.shape, X_val.shape, X_test.shape"
   ]
  },
  {
   "cell_type": "code",
   "execution_count": 56,
   "id": "7825c63f",
   "metadata": {},
   "outputs": [
    {
     "name": "stdout",
     "output_type": "stream",
     "text": [
      "Baseline Accuracy: 0.8231292517006803\n"
     ]
    }
   ],
   "source": [
    "print('Baseline Accuracy:', y_train.value_counts(normalize=True).max())"
   ]
  },
  {
   "cell_type": "code",
   "execution_count": 57,
   "id": "c73afdd1",
   "metadata": {},
   "outputs": [],
   "source": [
    "# two classes\n",
    "# imbalanced"
   ]
  },
  {
   "cell_type": "code",
   "execution_count": 58,
   "id": "31af72d4",
   "metadata": {},
   "outputs": [
    {
     "data": {
      "text/html": [
       "<div>\n",
       "<style scoped>\n",
       "    .dataframe tbody tr th:only-of-type {\n",
       "        vertical-align: middle;\n",
       "    }\n",
       "\n",
       "    .dataframe tbody tr th {\n",
       "        vertical-align: top;\n",
       "    }\n",
       "\n",
       "    .dataframe thead th {\n",
       "        text-align: right;\n",
       "    }\n",
       "</style>\n",
       "<table border=\"1\" class=\"dataframe\">\n",
       "  <thead>\n",
       "    <tr style=\"text-align: right;\">\n",
       "      <th></th>\n",
       "      <th>technique</th>\n",
       "      <th>X_shape</th>\n",
       "      <th>y_shape</th>\n",
       "      <th>target_0</th>\n",
       "      <th>target_1</th>\n",
       "    </tr>\n",
       "  </thead>\n",
       "  <tbody>\n",
       "    <tr>\n",
       "      <th>0</th>\n",
       "      <td>Original Data</td>\n",
       "      <td>882</td>\n",
       "      <td>882</td>\n",
       "      <td>726</td>\n",
       "      <td>156</td>\n",
       "    </tr>\n",
       "  </tbody>\n",
       "</table>\n",
       "</div>"
      ],
      "text/plain": [
       "       technique  X_shape  y_shape  target_0  target_1\n",
       "0  Original Data      882      882       726       156"
      ]
     },
     "execution_count": 58,
     "metadata": {},
     "output_type": "execute_result"
    }
   ],
   "source": [
    "# create dataframe to organize values\n",
    "data_table = pd.DataFrame()\n",
    "\n",
    "data_table['technique'] = ['Original Data']\n",
    "data_table['X_shape'] = [X_train.shape[0]]\n",
    "data_table['y_shape'] = [y_train.shape[0]]\n",
    "data_table['target_0'] = [y_train.value_counts()[0]]\n",
    "data_table['target_1'] = [y_train.value_counts()[1]]\n",
    "\n",
    "data_table"
   ]
  },
  {
   "cell_type": "code",
   "execution_count": 59,
   "id": "c6d4dd63",
   "metadata": {},
   "outputs": [],
   "source": [
    "smote = SMOTE(sampling_strategy='minority', random_state=42)\n",
    "X_train_smote, y_train_smote = smote.fit_resample(X_train, y_train)"
   ]
  },
  {
   "cell_type": "code",
   "execution_count": 60,
   "id": "3f8abb00",
   "metadata": {},
   "outputs": [
    {
     "data": {
      "text/html": [
       "<div>\n",
       "<style scoped>\n",
       "    .dataframe tbody tr th:only-of-type {\n",
       "        vertical-align: middle;\n",
       "    }\n",
       "\n",
       "    .dataframe tbody tr th {\n",
       "        vertical-align: top;\n",
       "    }\n",
       "\n",
       "    .dataframe thead th {\n",
       "        text-align: right;\n",
       "    }\n",
       "</style>\n",
       "<table border=\"1\" class=\"dataframe\">\n",
       "  <thead>\n",
       "    <tr style=\"text-align: right;\">\n",
       "      <th></th>\n",
       "      <th>technique</th>\n",
       "      <th>X_shape</th>\n",
       "      <th>y_shape</th>\n",
       "      <th>target_0</th>\n",
       "      <th>target_1</th>\n",
       "    </tr>\n",
       "  </thead>\n",
       "  <tbody>\n",
       "    <tr>\n",
       "      <th>0</th>\n",
       "      <td>Original Data</td>\n",
       "      <td>882</td>\n",
       "      <td>882</td>\n",
       "      <td>726</td>\n",
       "      <td>156</td>\n",
       "    </tr>\n",
       "    <tr>\n",
       "      <th>1</th>\n",
       "      <td>SMOTE - minority</td>\n",
       "      <td>1452</td>\n",
       "      <td>1452</td>\n",
       "      <td>726</td>\n",
       "      <td>726</td>\n",
       "    </tr>\n",
       "  </tbody>\n",
       "</table>\n",
       "</div>"
      ],
      "text/plain": [
       "          technique  X_shape  y_shape  target_0  target_1\n",
       "0     Original Data      882      882       726       156\n",
       "1  SMOTE - minority     1452     1452       726       726"
      ]
     },
     "execution_count": 60,
     "metadata": {},
     "output_type": "execute_result"
    }
   ],
   "source": [
    "new_row = {\n",
    "    'technique': 'SMOTE - minority',\n",
    "    'X_shape' : X_train_smote.shape[0],\n",
    "    'y_shape' : y_train_smote.shape[0],\n",
    "    'target_0' : y_train_smote.value_counts()[0],\n",
    "    'target_1' : y_train_smote.value_counts()[1]\n",
    "}\n",
    "\n",
    "data_table = data_table.append(new_row, ignore_index=True)\n",
    "\n",
    "data_table"
   ]
  },
  {
   "cell_type": "code",
   "execution_count": 61,
   "id": "dc5ff5e7",
   "metadata": {},
   "outputs": [],
   "source": [
    "# Model 1: Logistic Regression\n",
    "model_lr = make_pipeline(\n",
    "    SimpleImputer(strategy='mean'),\n",
    "    StandardScaler(),\n",
    "    LogisticRegression()\n",
    ")\n",
    "\n",
    "model_lr.fit(X_train_smote, y_train_smote);"
   ]
  },
  {
   "cell_type": "code",
   "execution_count": 62,
   "id": "d3dc74aa",
   "metadata": {},
   "outputs": [],
   "source": [
    "# Model 2: Random Forest\n",
    "model_rf = make_pipeline(\n",
    "    RandomForestClassifier(n_jobs=-1, random_state=42)\n",
    ")\n",
    "\n",
    "model_rf.fit(X_train_smote, y_train_smote);"
   ]
  },
  {
   "cell_type": "code",
   "execution_count": 63,
   "id": "b3c8e41b",
   "metadata": {},
   "outputs": [
    {
     "name": "stdout",
     "output_type": "stream",
     "text": [
      "[12:10:00] WARNING: ../src/learner.cc:576: \n",
      "Parameters: { \"n_estimator\" } might not be used.\n",
      "\n",
      "  This could be a false alarm, with some parameters getting used by language bindings but\n",
      "  then being mistakenly passed down to XGBoost core, or some parameter actually being used\n",
      "  but getting flagged wrongly here. Please open an issue if you find any such cases.\n",
      "\n",
      "\n",
      "[12:10:00] WARNING: ../src/learner.cc:1115: Starting in XGBoost 1.3.0, the default evaluation metric used with the objective 'binary:logistic' was changed from 'error' to 'logloss'. Explicitly set eval_metric if you'd like to restore the old behavior.\n"
     ]
    },
    {
     "data": {
      "text/plain": [
       "Pipeline(steps=[('simpleimputer', SimpleImputer()),\n",
       "                ('xgbclassifier',\n",
       "                 XGBClassifier(base_score=0.5, booster='gbtree',\n",
       "                               colsample_bylevel=1, colsample_bynode=1,\n",
       "                               colsample_bytree=1, enable_categorical=False,\n",
       "                               gamma=0, gpu_id=-1, importance_type=None,\n",
       "                               interaction_constraints='', learning_rate=0.2,\n",
       "                               max_delta_step=0, max_depth=6,\n",
       "                               min_child_weight=1, missing=nan,\n",
       "                               monotone_constraints='()', n_estimator=75,\n",
       "                               n_estimators=100, n_jobs=-1, num_parallel_tree=1,\n",
       "                               predictor='auto', random_state=42, reg_alpha=0,\n",
       "                               reg_lambda=1, scale_pos_weight=1, subsample=1,\n",
       "                               tree_method='exact', validate_parameters=1,\n",
       "                               verbosity=None))])"
      ]
     },
     "execution_count": 63,
     "metadata": {},
     "output_type": "execute_result"
    }
   ],
   "source": [
    "# Model 3: XGBoost\n",
    "\n",
    "model_xgb = make_pipeline(\n",
    "    SimpleImputer(strategy='mean'),\n",
    "    XGBClassifier(random_state=42,n_estimator=75, n_jobs=-1, learning_rate=.2) #learning rate = 0.01, 0.1,0.2\n",
    ")\n",
    "\n",
    "model_xgb.fit(X_train, y_train)"
   ]
  },
  {
   "cell_type": "code",
   "execution_count": 64,
   "id": "2794c1ad",
   "metadata": {},
   "outputs": [
    {
     "name": "stdout",
     "output_type": "stream",
     "text": [
      "Training Accuracy (LOGR): 0.8677685950413223\n",
      "Validation Accuracy (LOGR): 0.8163265306122449\n"
     ]
    }
   ],
   "source": [
    "print('Training Accuracy (LOGR):', model_lr.score(X_train_smote, y_train_smote))\n",
    "print('Validation Accuracy (LOGR):', model_lr.score(X_val, y_val))"
   ]
  },
  {
   "cell_type": "code",
   "execution_count": 65,
   "id": "d9f10f9e",
   "metadata": {},
   "outputs": [
    {
     "name": "stdout",
     "output_type": "stream",
     "text": [
      "Training Accuracy (RF): 1.0\n",
      "Validation Accuracy (RF): 0.8605442176870748\n"
     ]
    }
   ],
   "source": [
    "print('Training Accuracy (RF):', model_rf.score(X_train_smote, y_train_smote))\n",
    "print('Validation Accuracy (RF):', model_rf.score(X_val, y_val))"
   ]
  },
  {
   "cell_type": "code",
   "execution_count": 66,
   "id": "f2d58c2d",
   "metadata": {},
   "outputs": [
    {
     "name": "stdout",
     "output_type": "stream",
     "text": [
      "Training Accuracy (XGB): 0.8512396694214877\n",
      "Validation Accuracy (XGB): 0.8843537414965986\n"
     ]
    }
   ],
   "source": [
    "print('Training Accuracy (XGB):', model_xgb.score(X_train_smote, y_train_smote))\n",
    "print('Validation Accuracy (XGB):', model_xgb.score(X_val, y_val))"
   ]
  },
  {
   "cell_type": "code",
   "execution_count": 67,
   "id": "1ed683fa",
   "metadata": {},
   "outputs": [
    {
     "name": "stdout",
     "output_type": "stream",
     "text": [
      "Logistic Regression\n",
      "              precision    recall  f1-score   support\n",
      "\n",
      "           0       0.91      0.87      0.89       256\n",
      "           1       0.34      0.45      0.39        38\n",
      "\n",
      "    accuracy                           0.82       294\n",
      "   macro avg       0.63      0.66      0.64       294\n",
      "weighted avg       0.84      0.82      0.83       294\n",
      "\n"
     ]
    },
    {
     "data": {
      "image/png": "[encoded data removed]",
      "text/plain": [
       "<Figure size 432x288 with 2 Axes>"
      ]
     },
     "metadata": {
      "needs_background": "light"
     },
     "output_type": "display_data"
    }
   ],
   "source": [
    "print('Logistic Regression')\n",
    "print(classification_report(y_val, model_lr.predict(X_val)))\n",
    "plot_confusion_matrix(model_lr, X_val, y_val);"
   ]
  },
  {
   "cell_type": "code",
   "execution_count": 68,
   "id": "68be56e0",
   "metadata": {},
   "outputs": [
    {
     "name": "stdout",
     "output_type": "stream",
     "text": [
      "Random Forest\n",
      "              precision    recall  f1-score   support\n",
      "\n",
      "           0       0.90      0.95      0.92       256\n",
      "           1       0.44      0.29      0.35        38\n",
      "\n",
      "    accuracy                           0.86       294\n",
      "   macro avg       0.67      0.62      0.64       294\n",
      "weighted avg       0.84      0.86      0.85       294\n",
      "\n"
     ]
    },
    {
     "data": {
      "image/png": "[encoded data removed]",
      "text/plain": [
       "<Figure size 432x288 with 2 Axes>"
      ]
     },
     "metadata": {
      "needs_background": "light"
     },
     "output_type": "display_data"
    }
   ],
   "source": [
    "print('Random Forest')\n",
    "print(classification_report(y_val, model_rf.predict(X_val)))\n",
    "plot_confusion_matrix(model_rf, X_val, y_val);"
   ]
  },
  {
   "cell_type": "code",
   "execution_count": 69,
   "id": "5e8a0bf7",
   "metadata": {},
   "outputs": [
    {
     "name": "stdout",
     "output_type": "stream",
     "text": [
      "XG Boost\n",
      "              precision    recall  f1-score   support\n",
      "\n",
      "           0       0.90      0.98      0.94       256\n",
      "           1       0.64      0.24      0.35        38\n",
      "\n",
      "    accuracy                           0.88       294\n",
      "   macro avg       0.77      0.61      0.64       294\n",
      "weighted avg       0.86      0.88      0.86       294\n",
      "\n"
     ]
    },
    {
     "data": {
      "image/png": "[encoded data removed]",
      "text/plain": [
       "<Figure size 432x288 with 2 Axes>"
      ]
     },
     "metadata": {
      "needs_background": "light"
     },
     "output_type": "display_data"
    }
   ],
   "source": [
    "print('XG Boost')\n",
    "print(classification_report(y_val, model_xgb.predict(X_val)))\n",
    "plot_confusion_matrix(model_xgb, X_val, y_val);"
   ]
  },
  {
   "cell_type": "code",
   "execution_count": 70,
   "id": "cd9bacda",
   "metadata": {},
   "outputs": [
    {
     "data": {
      "image/png": "[encoded data removed]",
      "text/plain": [
       "<Figure size 432x288 with 1 Axes>"
      ]
     },
     "metadata": {
      "needs_background": "light"
     },
     "output_type": "display_data"
    }
   ],
   "source": [
    "lr = plot_roc_curve(model_lr,\n",
    "               X_val,\n",
    "               y_val,\n",
    "               name='logistic regression');\n",
    "\n",
    "rf = plot_roc_curve(model_rf,\n",
    "               X_val,\n",
    "               y_val,\n",
    "               ax=lr.ax_,\n",
    "               name='random forest');\n",
    "\n",
    "xgb = plot_roc_curve(model_xgb,\n",
    "               X_val,\n",
    "               y_val,\n",
    "               ax=lr.ax_,\n",
    "               name='xgboost');"
   ]
  },
  {
   "cell_type": "code",
   "execution_count": 71,
   "id": "c7b2c0c4",
   "metadata": {},
   "outputs": [
    {
     "data": {
      "text/plain": [
       "Text(0, 0.5, 'Feature')"
      ]
     },
     "execution_count": 71,
     "metadata": {},
     "output_type": "execute_result"
    },
    {
     "data": {
      "image/png": "[encoded data removed]",
      "text/plain": [
       "<Figure size 432x288 with 1 Axes>"
      ]
     },
     "metadata": {
      "needs_background": "light"
     },
     "output_type": "display_data"
    }
   ],
   "source": [
    "importances = model_xgb.named_steps['xgbclassifier'].feature_importances_\n",
    "feature_names =X_train_smote.columns\n",
    "feat_imp= pd.Series(data=importances, index=feature_names).sort_values()\n",
    "feat_imp.tail(10).plot(kind='barh')\n",
    "plt.xlabel('Gini Importance')\n",
    "plt.ylabel('Feature')"
   ]
  },
  {
   "cell_type": "code",
   "execution_count": 72,
   "id": "2b556e03",
   "metadata": {},
   "outputs": [
    {
     "name": "stdout",
     "output_type": "stream",
     "text": [
      "[12:10:01] WARNING: ../src/learner.cc:576: \n",
      "Parameters: { \"n_estimator\" } might not be used.\n",
      "\n",
      "  This could be a false alarm, with some parameters getting used by language bindings but\n",
      "  then being mistakenly passed down to XGBoost core, or some parameter actually being used\n",
      "  but getting flagged wrongly here. Please open an issue if you find any such cases.\n",
      "\n",
      "\n",
      "[12:10:01] WARNING: ../src/learner.cc:1115: Starting in XGBoost 1.3.0, the default evaluation metric used with the objective 'binary:logistic' was changed from 'error' to 'logloss'. Explicitly set eval_metric if you'd like to restore the old behavior.\n"
     ]
    },
    {
     "data": {
      "text/plain": [
       "Pipeline(steps=[('simpleimputer', SimpleImputer()),\n",
       "                ('xgbclassifier',\n",
       "                 XGBClassifier(base_score=0.5, booster='gbtree',\n",
       "                               colsample_bylevel=1, colsample_bynode=1,\n",
       "                               colsample_bytree=1, enable_categorical=False,\n",
       "                               gamma=0, gpu_id=-1, importance_type=None,\n",
       "                               interaction_constraints='', learning_rate=0.2,\n",
       "                               max_delta_step=0, max_depth=6,\n",
       "                               min_child_weight=1, missing=nan,\n",
       "                               monotone_constraints='()', n_estimator=75,\n",
       "                               n_estimators=100, n_jobs=-1, num_parallel_tree=1,\n",
       "                               predictor='auto', random_state=42, reg_alpha=0,\n",
       "                               reg_lambda=1, scale_pos_weight=1, subsample=1,\n",
       "                               tree_method='exact', validate_parameters=1,\n",
       "                               verbosity=None))])"
      ]
     },
     "execution_count": 72,
     "metadata": {},
     "output_type": "execute_result"
    }
   ],
   "source": [
    "model_perm = make_pipeline(\n",
    "    SimpleImputer(strategy='mean'),\n",
    "    XGBClassifier(random_state=42,n_estimator=75, n_jobs=-1, learning_rate=.2) \n",
    ")\n",
    "\n",
    "model_perm.fit(X_train_smote, y_train_smote)"
   ]
  },
  {
   "cell_type": "code",
   "execution_count": 73,
   "id": "38faf850",
   "metadata": {},
   "outputs": [
    {
     "data": {
      "text/plain": [
       "0.8571428571428571"
      ]
     },
     "execution_count": 73,
     "metadata": {},
     "output_type": "execute_result"
    }
   ],
   "source": [
    "model_perm.score(X_val, y_val)"
   ]
  },
  {
   "cell_type": "code",
   "execution_count": 74,
   "id": "560bff63",
   "metadata": {},
   "outputs": [],
   "source": [
    "col = 'MonthlyIncome'\n",
    "X_val_perm = X_val.copy()\n",
    "X_val_perm[col] = np.random.permutation(X_val_perm[col])"
   ]
  },
  {
   "cell_type": "code",
   "execution_count": 75,
   "id": "396c8c0e",
   "metadata": {},
   "outputs": [
    {
     "data": {
      "text/plain": [
       "0.8469387755102041"
      ]
     },
     "execution_count": 75,
     "metadata": {},
     "output_type": "execute_result"
    }
   ],
   "source": [
    "model_perm.score(X_val_perm, y_val)"
   ]
  },
  {
   "cell_type": "code",
   "execution_count": 76,
   "id": "52090335",
   "metadata": {},
   "outputs": [
    {
     "data": {
      "text/plain": [
       "{'importances_mean': array([ 0.00680272,  0.0047619 , -0.00068027,  0.00272109,  0.00068027,\n",
       "         0.00612245, -0.00340136, -0.00136054,  0.00272109,  0.00068027,\n",
       "         0.01020408,  0.00340136,  0.01156463, -0.00748299, -0.00136054,\n",
       "         0.02312925, -0.00068027,  0.00136054, -0.00340136,  0.0047619 ,\n",
       "         0.00884354,  0.00680272,  0.00748299, -0.00272109,  0.00884354,\n",
       "        -0.00272109,  0.00136054,  0.03401361,  0.02176871,  0.        ,\n",
       "         0.        ,  0.        ,  0.        ,  0.        ,  0.        ,\n",
       "         0.        ,  0.        ,  0.        ,  0.        ,  0.        ,\n",
       "         0.        ,  0.        ,  0.        ]),\n",
       " 'importances_std': array([0.003726  , 0.00272109, 0.00451241, 0.00396663, 0.00451241,\n",
       "        0.0062348 , 0.003726  , 0.00630858, 0.00254535, 0.00254535,\n",
       "        0.0130853 , 0.0077563 , 0.00552656, 0.00451241, 0.00821976,\n",
       "        0.00585192, 0.00254535, 0.00272109, 0.00430242, 0.00700383,\n",
       "        0.00630858, 0.003726  , 0.00451241, 0.00254535, 0.00346872,\n",
       "        0.00254535, 0.00509069, 0.00481025, 0.0110949 , 0.        ,\n",
       "        0.        , 0.        , 0.        , 0.        , 0.        ,\n",
       "        0.        , 0.        , 0.        , 0.        , 0.        ,\n",
       "        0.        , 0.        , 0.        ]),\n",
       " 'importances': array([[ 0.01360544,  0.00680272,  0.00340136,  0.00340136,  0.00680272],\n",
       "        [ 0.00680272,  0.00340136,  0.        ,  0.00680272,  0.00680272],\n",
       "        [-0.00680272,  0.00680272,  0.        , -0.00340136,  0.        ],\n",
       "        [ 0.01020408,  0.        ,  0.        ,  0.        ,  0.00340136],\n",
       "        [ 0.        , -0.00680272,  0.00340136,  0.00680272,  0.        ],\n",
       "        [ 0.        ,  0.0170068 ,  0.00680272,  0.00680272,  0.        ],\n",
       "        [-0.00340136, -0.00680272, -0.00680272,  0.00340136, -0.00340136],\n",
       "        [ 0.00340136,  0.        ,  0.00340136,  0.        , -0.01360544],\n",
       "        [ 0.        ,  0.        ,  0.00340136,  0.00340136,  0.00680272],\n",
       "        [ 0.        ,  0.00340136,  0.00340136, -0.00340136,  0.        ],\n",
       "        [ 0.01020408,  0.0170068 ,  0.        ,  0.03061224, -0.00680272],\n",
       "        [-0.01020408,  0.01020408,  0.        ,  0.01020408,  0.00680272],\n",
       "        [ 0.0170068 ,  0.00340136,  0.00680272,  0.01360544,  0.0170068 ],\n",
       "        [-0.00680272, -0.01020408, -0.01360544, -0.00680272,  0.        ],\n",
       "        [ 0.00340136,  0.        , -0.0170068 ,  0.        ,  0.00680272],\n",
       "        [ 0.03061224,  0.02380952,  0.02040816,  0.01360544,  0.02721088],\n",
       "        [ 0.        , -0.00340136, -0.00340136,  0.        ,  0.00340136],\n",
       "        [-0.00340136,  0.00340136,  0.00340136,  0.        ,  0.00340136],\n",
       "        [ 0.        ,  0.        ,  0.        , -0.00680272, -0.01020408],\n",
       "        [-0.00680272,  0.00340136,  0.01360544,  0.01020408,  0.00340136],\n",
       "        [ 0.01020408,  0.00340136,  0.00340136,  0.00680272,  0.02040816],\n",
       "        [ 0.00680272,  0.        ,  0.00680272,  0.01020408,  0.01020408],\n",
       "        [ 0.        ,  0.01020408,  0.01360544,  0.00680272,  0.00680272],\n",
       "        [-0.00340136,  0.        ,  0.        , -0.00680272, -0.00340136],\n",
       "        [ 0.00680272,  0.01360544,  0.00340136,  0.01020408,  0.01020408],\n",
       "        [-0.00340136, -0.00340136, -0.00680272,  0.        ,  0.        ],\n",
       "        [-0.00680272,  0.00680272,  0.00680272,  0.        ,  0.        ],\n",
       "        [ 0.03741497,  0.04081633,  0.03401361,  0.03061224,  0.02721088],\n",
       "        [ 0.01360544,  0.01020408,  0.04081633,  0.0170068 ,  0.02721088],\n",
       "        [ 0.        ,  0.        ,  0.        ,  0.        ,  0.        ],\n",
       "        [ 0.        ,  0.        ,  0.        ,  0.        ,  0.        ],\n",
       "        [ 0.        ,  0.        ,  0.        ,  0.        ,  0.        ],\n",
       "        [ 0.        ,  0.        ,  0.        ,  0.        ,  0.        ],\n",
       "        [ 0.        ,  0.        ,  0.        ,  0.        ,  0.        ],\n",
       "        [ 0.        ,  0.        ,  0.        ,  0.        ,  0.        ],\n",
       "        [ 0.        ,  0.        ,  0.        ,  0.        ,  0.        ],\n",
       "        [ 0.        ,  0.        ,  0.        ,  0.        ,  0.        ],\n",
       "        [ 0.        ,  0.        ,  0.        ,  0.        ,  0.        ],\n",
       "        [ 0.        ,  0.        ,  0.        ,  0.        ,  0.        ],\n",
       "        [ 0.        ,  0.        ,  0.        ,  0.        ,  0.        ],\n",
       "        [ 0.        ,  0.        ,  0.        ,  0.        ,  0.        ],\n",
       "        [ 0.        ,  0.        ,  0.        ,  0.        ,  0.        ],\n",
       "        [ 0.        ,  0.        ,  0.        ,  0.        ,  0.        ]])}"
      ]
     },
     "execution_count": 76,
     "metadata": {},
     "output_type": "execute_result"
    }
   ],
   "source": [
    "perm_imp = permutation_importance(model_perm, X_val, y_val,random_state=42)\n",
    "perm_imp"
   ]
  },
  {
   "cell_type": "code",
   "execution_count": 77,
   "id": "b412987f",
   "metadata": {},
   "outputs": [],
   "source": [
    "data_perm = {'imp_mean':perm_imp['importances_mean'],\n",
    "             'imp_std':perm_imp['importances_std']}\n",
    "\n",
    "\n",
    "df_perm = pd.DataFrame(data_perm, index=X_val.columns).sort_values('imp_mean')"
   ]
  },
  {
   "cell_type": "code",
   "execution_count": 78,
   "id": "a6351e3a",
   "metadata": {},
   "outputs": [
    {
     "data": {
      "text/html": [
       "<div>\n",
       "<style scoped>\n",
       "    .dataframe tbody tr th:only-of-type {\n",
       "        vertical-align: middle;\n",
       "    }\n",
       "\n",
       "    .dataframe tbody tr th {\n",
       "        vertical-align: top;\n",
       "    }\n",
       "\n",
       "    .dataframe thead th {\n",
       "        text-align: right;\n",
       "    }\n",
       "</style>\n",
       "<table border=\"1\" class=\"dataframe\">\n",
       "  <thead>\n",
       "    <tr style=\"text-align: right;\">\n",
       "      <th></th>\n",
       "      <th>imp_mean</th>\n",
       "      <th>imp_std</th>\n",
       "    </tr>\n",
       "  </thead>\n",
       "  <tbody>\n",
       "    <tr>\n",
       "      <th>MonthlyRate</th>\n",
       "      <td>-0.007483</td>\n",
       "      <td>0.004512</td>\n",
       "    </tr>\n",
       "    <tr>\n",
       "      <th>RelationshipSatisfaction</th>\n",
       "      <td>-0.003401</td>\n",
       "      <td>0.004302</td>\n",
       "    </tr>\n",
       "    <tr>\n",
       "      <th>Gender</th>\n",
       "      <td>-0.003401</td>\n",
       "      <td>0.003726</td>\n",
       "    </tr>\n",
       "    <tr>\n",
       "      <th>YearsAtCompany</th>\n",
       "      <td>-0.002721</td>\n",
       "      <td>0.002545</td>\n",
       "    </tr>\n",
       "    <tr>\n",
       "      <th>YearsSinceLastPromotion</th>\n",
       "      <td>-0.002721</td>\n",
       "      <td>0.002545</td>\n",
       "    </tr>\n",
       "    <tr>\n",
       "      <th>HourlyRate</th>\n",
       "      <td>-0.001361</td>\n",
       "      <td>0.006309</td>\n",
       "    </tr>\n",
       "    <tr>\n",
       "      <th>NumCompaniesWorked</th>\n",
       "      <td>-0.001361</td>\n",
       "      <td>0.008220</td>\n",
       "    </tr>\n",
       "    <tr>\n",
       "      <th>DailyRate</th>\n",
       "      <td>-0.000680</td>\n",
       "      <td>0.004512</td>\n",
       "    </tr>\n",
       "    <tr>\n",
       "      <th>PercentSalaryHike</th>\n",
       "      <td>-0.000680</td>\n",
       "      <td>0.002545</td>\n",
       "    </tr>\n",
       "    <tr>\n",
       "      <th>Technical Degree</th>\n",
       "      <td>0.000000</td>\n",
       "      <td>0.000000</td>\n",
       "    </tr>\n",
       "    <tr>\n",
       "      <th>Human Resources</th>\n",
       "      <td>0.000000</td>\n",
       "      <td>0.000000</td>\n",
       "    </tr>\n",
       "    <tr>\n",
       "      <th>Laboratory Technician</th>\n",
       "      <td>0.000000</td>\n",
       "      <td>0.000000</td>\n",
       "    </tr>\n",
       "    <tr>\n",
       "      <th>Sales Executive</th>\n",
       "      <td>0.000000</td>\n",
       "      <td>0.000000</td>\n",
       "    </tr>\n",
       "    <tr>\n",
       "      <th>Research Scientist</th>\n",
       "      <td>0.000000</td>\n",
       "      <td>0.000000</td>\n",
       "    </tr>\n",
       "    <tr>\n",
       "      <th>Sales Representative</th>\n",
       "      <td>0.000000</td>\n",
       "      <td>0.000000</td>\n",
       "    </tr>\n",
       "    <tr>\n",
       "      <th>Life Sciences</th>\n",
       "      <td>0.000000</td>\n",
       "      <td>0.000000</td>\n",
       "    </tr>\n",
       "    <tr>\n",
       "      <th>Marketing</th>\n",
       "      <td>0.000000</td>\n",
       "      <td>0.000000</td>\n",
       "    </tr>\n",
       "    <tr>\n",
       "      <th>Research Director</th>\n",
       "      <td>0.000000</td>\n",
       "      <td>0.000000</td>\n",
       "    </tr>\n",
       "    <tr>\n",
       "      <th>Other</th>\n",
       "      <td>0.000000</td>\n",
       "      <td>0.000000</td>\n",
       "    </tr>\n",
       "    <tr>\n",
       "      <th>Manufacturing Director</th>\n",
       "      <td>0.000000</td>\n",
       "      <td>0.000000</td>\n",
       "    </tr>\n",
       "    <tr>\n",
       "      <th>Healthcare Representative</th>\n",
       "      <td>0.000000</td>\n",
       "      <td>0.000000</td>\n",
       "    </tr>\n",
       "    <tr>\n",
       "      <th>Manager</th>\n",
       "      <td>0.000000</td>\n",
       "      <td>0.000000</td>\n",
       "    </tr>\n",
       "    <tr>\n",
       "      <th>Medical</th>\n",
       "      <td>0.000000</td>\n",
       "      <td>0.000000</td>\n",
       "    </tr>\n",
       "    <tr>\n",
       "      <th>JobLevel</th>\n",
       "      <td>0.000680</td>\n",
       "      <td>0.002545</td>\n",
       "    </tr>\n",
       "    <tr>\n",
       "      <th>Education</th>\n",
       "      <td>0.000680</td>\n",
       "      <td>0.004512</td>\n",
       "    </tr>\n",
       "    <tr>\n",
       "      <th>YearsWithCurrManager</th>\n",
       "      <td>0.001361</td>\n",
       "      <td>0.005091</td>\n",
       "    </tr>\n",
       "    <tr>\n",
       "      <th>PerformanceRating</th>\n",
       "      <td>0.001361</td>\n",
       "      <td>0.002721</td>\n",
       "    </tr>\n",
       "    <tr>\n",
       "      <th>DistanceFromHome</th>\n",
       "      <td>0.002721</td>\n",
       "      <td>0.003967</td>\n",
       "    </tr>\n",
       "    <tr>\n",
       "      <th>JobInvolvement</th>\n",
       "      <td>0.002721</td>\n",
       "      <td>0.002545</td>\n",
       "    </tr>\n",
       "    <tr>\n",
       "      <th>MaritalStatus</th>\n",
       "      <td>0.003401</td>\n",
       "      <td>0.007756</td>\n",
       "    </tr>\n",
       "    <tr>\n",
       "      <th>StockOptionLevel</th>\n",
       "      <td>0.004762</td>\n",
       "      <td>0.007004</td>\n",
       "    </tr>\n",
       "    <tr>\n",
       "      <th>BusinessTravel</th>\n",
       "      <td>0.004762</td>\n",
       "      <td>0.002721</td>\n",
       "    </tr>\n",
       "    <tr>\n",
       "      <th>EnvironmentSatisfaction</th>\n",
       "      <td>0.006122</td>\n",
       "      <td>0.006235</td>\n",
       "    </tr>\n",
       "    <tr>\n",
       "      <th>TrainingTimesLastYear</th>\n",
       "      <td>0.006803</td>\n",
       "      <td>0.003726</td>\n",
       "    </tr>\n",
       "    <tr>\n",
       "      <th>Age</th>\n",
       "      <td>0.006803</td>\n",
       "      <td>0.003726</td>\n",
       "    </tr>\n",
       "    <tr>\n",
       "      <th>WorkLifeBalance</th>\n",
       "      <td>0.007483</td>\n",
       "      <td>0.004512</td>\n",
       "    </tr>\n",
       "    <tr>\n",
       "      <th>YearsInCurrentRole</th>\n",
       "      <td>0.008844</td>\n",
       "      <td>0.003469</td>\n",
       "    </tr>\n",
       "    <tr>\n",
       "      <th>TotalWorkingYears</th>\n",
       "      <td>0.008844</td>\n",
       "      <td>0.006309</td>\n",
       "    </tr>\n",
       "    <tr>\n",
       "      <th>JobSatisfaction</th>\n",
       "      <td>0.010204</td>\n",
       "      <td>0.013085</td>\n",
       "    </tr>\n",
       "    <tr>\n",
       "      <th>MonthlyIncome</th>\n",
       "      <td>0.011565</td>\n",
       "      <td>0.005527</td>\n",
       "    </tr>\n",
       "    <tr>\n",
       "      <th>Research &amp; Development</th>\n",
       "      <td>0.021769</td>\n",
       "      <td>0.011095</td>\n",
       "    </tr>\n",
       "    <tr>\n",
       "      <th>OverTime</th>\n",
       "      <td>0.023129</td>\n",
       "      <td>0.005852</td>\n",
       "    </tr>\n",
       "    <tr>\n",
       "      <th>Sales</th>\n",
       "      <td>0.034014</td>\n",
       "      <td>0.004810</td>\n",
       "    </tr>\n",
       "  </tbody>\n",
       "</table>\n",
       "</div>"
      ],
      "text/plain": [
       "                           imp_mean   imp_std\n",
       "MonthlyRate               -0.007483  0.004512\n",
       "RelationshipSatisfaction  -0.003401  0.004302\n",
       "Gender                    -0.003401  0.003726\n",
       "YearsAtCompany            -0.002721  0.002545\n",
       "YearsSinceLastPromotion   -0.002721  0.002545\n",
       "HourlyRate                -0.001361  0.006309\n",
       "NumCompaniesWorked        -0.001361  0.008220\n",
       "DailyRate                 -0.000680  0.004512\n",
       "PercentSalaryHike         -0.000680  0.002545\n",
       "Technical Degree           0.000000  0.000000\n",
       "Human Resources            0.000000  0.000000\n",
       "Laboratory Technician      0.000000  0.000000\n",
       "Sales Executive            0.000000  0.000000\n",
       "Research Scientist         0.000000  0.000000\n",
       "Sales Representative       0.000000  0.000000\n",
       "Life Sciences              0.000000  0.000000\n",
       "Marketing                  0.000000  0.000000\n",
       "Research Director          0.000000  0.000000\n",
       "Other                      0.000000  0.000000\n",
       "Manufacturing Director     0.000000  0.000000\n",
       "Healthcare Representative  0.000000  0.000000\n",
       "Manager                    0.000000  0.000000\n",
       "Medical                    0.000000  0.000000\n",
       "JobLevel                   0.000680  0.002545\n",
       "Education                  0.000680  0.004512\n",
       "YearsWithCurrManager       0.001361  0.005091\n",
       "PerformanceRating          0.001361  0.002721\n",
       "DistanceFromHome           0.002721  0.003967\n",
       "JobInvolvement             0.002721  0.002545\n",
       "MaritalStatus              0.003401  0.007756\n",
       "StockOptionLevel           0.004762  0.007004\n",
       "BusinessTravel             0.004762  0.002721\n",
       "EnvironmentSatisfaction    0.006122  0.006235\n",
       "TrainingTimesLastYear      0.006803  0.003726\n",
       "Age                        0.006803  0.003726\n",
       "WorkLifeBalance            0.007483  0.004512\n",
       "YearsInCurrentRole         0.008844  0.003469\n",
       "TotalWorkingYears          0.008844  0.006309\n",
       "JobSatisfaction            0.010204  0.013085\n",
       "MonthlyIncome              0.011565  0.005527\n",
       "Research & Development     0.021769  0.011095\n",
       "OverTime                   0.023129  0.005852\n",
       "Sales                      0.034014  0.004810"
      ]
     },
     "execution_count": 78,
     "metadata": {},
     "output_type": "execute_result"
    }
   ],
   "source": [
    "df_perm"
   ]
  },
  {
   "cell_type": "code",
   "execution_count": 79,
   "id": "2742ccfa",
   "metadata": {},
   "outputs": [],
   "source": [
    "col = 'Age'\n",
    "X_val_perm = X_val.copy()\n",
    "X_val_perm[col] = np.random.permutation(X_val_perm[col])"
   ]
  },
  {
   "cell_type": "code",
   "execution_count": 80,
   "id": "540802a3",
   "metadata": {},
   "outputs": [
    {
     "data": {
      "text/plain": [
       "0.8571428571428571"
      ]
     },
     "execution_count": 80,
     "metadata": {},
     "output_type": "execute_result"
    }
   ],
   "source": [
    "model_perm.score(X_val_perm, y_val)"
   ]
  },
  {
   "cell_type": "code",
   "execution_count": 81,
   "id": "f7ad340b",
   "metadata": {},
   "outputs": [],
   "source": [
    "feature = 'MonthlyIncome'"
   ]
  },
  {
   "cell_type": "code",
   "execution_count": 82,
   "id": "6221d495",
   "metadata": {},
   "outputs": [],
   "source": [
    "isolate= pdp_isolate(\n",
    "    model_xgb,\n",
    "    dataset= X_val, \n",
    "    model_features=X_val.columns,\n",
    "    feature=feature\n",
    ")"
   ]
  },
  {
   "cell_type": "code",
   "execution_count": 83,
   "id": "43dedcd7",
   "metadata": {},
   "outputs": [
    {
     "data": {
      "text/plain": [
       "(<Figure size 1080x684 with 2 Axes>,\n",
       " {'title_ax': <AxesSubplot:>, 'pdp_ax': <AxesSubplot:xlabel='MonthlyIncome'>})"
      ]
     },
     "execution_count": 83,
     "metadata": {},
     "output_type": "execute_result"
    },
    {
     "data": {
      "image/png": "[encoded data removed]",
      "text/plain": [
       "<Figure size 1080x684 with 2 Axes>"
      ]
     },
     "metadata": {
      "needs_background": "light"
     },
     "output_type": "display_data"
    }
   ],
   "source": [
    "pdp_plot(isolate, feature_name=feature)"
   ]
  },
  {
   "cell_type": "code",
   "execution_count": 84,
   "id": "a55eceb4",
   "metadata": {},
   "outputs": [],
   "source": [
    "feature = 'Age'"
   ]
  },
  {
   "cell_type": "code",
   "execution_count": 85,
   "id": "7fbe9f62",
   "metadata": {},
   "outputs": [],
   "source": [
    "isolate= pdp_isolate(\n",
    "    model_xgb,\n",
    "    dataset= X_val, \n",
    "    model_features=X_val.columns,\n",
    "    feature=feature\n",
    ")"
   ]
  },
  {
   "cell_type": "code",
   "execution_count": 86,
   "id": "3a66f5af",
   "metadata": {},
   "outputs": [
    {
     "data": {
      "text/plain": [
       "(<Figure size 1080x684 with 2 Axes>,\n",
       " {'title_ax': <AxesSubplot:>, 'pdp_ax': <AxesSubplot:xlabel='Age'>})"
      ]
     },
     "execution_count": 86,
     "metadata": {},
     "output_type": "execute_result"
    },
    {
     "data": {
      "image/png": "[encoded data removed]",
      "text/plain": [
       "<Figure size 1080x684 with 2 Axes>"
      ]
     },
     "metadata": {
      "needs_background": "light"
     },
     "output_type": "display_data"
    }
   ],
   "source": [
    "pdp_plot(isolate, feature_name=feature)"
   ]
  },
  {
   "cell_type": "code",
   "execution_count": 87,
   "id": "5a616641",
   "metadata": {},
   "outputs": [],
   "source": [
    "features = ['Age','MonthlyIncome']"
   ]
  },
  {
   "cell_type": "code",
   "execution_count": 88,
   "id": "a384fbf7",
   "metadata": {},
   "outputs": [],
   "source": [
    "interact= pdp_interact(\n",
    "    model_xgb,\n",
    "    dataset= X_val, \n",
    "    model_features=X_val.columns,\n",
    "    features=features\n",
    ")"
   ]
  },
  {
   "cell_type": "code",
   "execution_count": 89,
   "id": "9e1a81b3",
   "metadata": {},
   "outputs": [
    {
     "data": {
      "text/plain": [
       "(<Figure size 540x684 with 3 Axes>,\n",
       " {'title_ax': <AxesSubplot:>,\n",
       "  'pdp_inter_ax': <AxesSubplot:xlabel='Age', ylabel='MonthlyIncome'>})"
      ]
     },
     "execution_count": 89,
     "metadata": {},
     "output_type": "execute_result"
    },
    {
     "data": {
      "image/png": "[encoded data removed]",
      "text/plain": [
       "<Figure size 540x684 with 3 Axes>"
      ]
     },
     "metadata": {
      "needs_background": "light"
     },
     "output_type": "display_data"
    }
   ],
   "source": [
    "pdp_interact_plot(interact,plot_type='grid', feature_names=features)"
   ]
  },
  {
   "cell_type": "code",
   "execution_count": 90,
   "id": "eefa1086",
   "metadata": {},
   "outputs": [],
   "source": [
    "sample_row = X_val.tail(1)"
   ]
  },
  {
   "cell_type": "code",
   "execution_count": 91,
   "id": "38512fae",
   "metadata": {},
   "outputs": [
    {
     "data": {
      "text/html": [
       "<div>\n",
       "<style scoped>\n",
       "    .dataframe tbody tr th:only-of-type {\n",
       "        vertical-align: middle;\n",
       "    }\n",
       "\n",
       "    .dataframe tbody tr th {\n",
       "        vertical-align: top;\n",
       "    }\n",
       "\n",
       "    .dataframe thead th {\n",
       "        text-align: right;\n",
       "    }\n",
       "</style>\n",
       "<table border=\"1\" class=\"dataframe\">\n",
       "  <thead>\n",
       "    <tr style=\"text-align: right;\">\n",
       "      <th></th>\n",
       "      <th>Age</th>\n",
       "      <th>BusinessTravel</th>\n",
       "      <th>DailyRate</th>\n",
       "      <th>DistanceFromHome</th>\n",
       "      <th>Education</th>\n",
       "      <th>EnvironmentSatisfaction</th>\n",
       "      <th>Gender</th>\n",
       "      <th>HourlyRate</th>\n",
       "      <th>JobInvolvement</th>\n",
       "      <th>JobLevel</th>\n",
       "      <th>...</th>\n",
       "      <th>Marketing</th>\n",
       "      <th>Technical Degree</th>\n",
       "      <th>Sales Executive</th>\n",
       "      <th>Research Scientist</th>\n",
       "      <th>Laboratory Technician</th>\n",
       "      <th>Manufacturing Director</th>\n",
       "      <th>Healthcare Representative</th>\n",
       "      <th>Manager</th>\n",
       "      <th>Sales Representative</th>\n",
       "      <th>Research Director</th>\n",
       "    </tr>\n",
       "  </thead>\n",
       "  <tbody>\n",
       "    <tr>\n",
       "      <th>607</th>\n",
       "      <td>49</td>\n",
       "      <td>0</td>\n",
       "      <td>1184</td>\n",
       "      <td>11</td>\n",
       "      <td>3</td>\n",
       "      <td>3</td>\n",
       "      <td>0</td>\n",
       "      <td>43</td>\n",
       "      <td>3</td>\n",
       "      <td>3</td>\n",
       "      <td>...</td>\n",
       "      <td>0</td>\n",
       "      <td>0</td>\n",
       "      <td>0</td>\n",
       "      <td>0</td>\n",
       "      <td>0</td>\n",
       "      <td>0</td>\n",
       "      <td>0</td>\n",
       "      <td>0</td>\n",
       "      <td>0</td>\n",
       "      <td>0</td>\n",
       "    </tr>\n",
       "  </tbody>\n",
       "</table>\n",
       "<p>1 rows × 43 columns</p>\n",
       "</div>"
      ],
      "text/plain": [
       "     Age  BusinessTravel  DailyRate  DistanceFromHome  Education  \\\n",
       "607   49               0       1184                11          3   \n",
       "\n",
       "     EnvironmentSatisfaction  Gender  HourlyRate  JobInvolvement  JobLevel  \\\n",
       "607                        3       0          43               3         3   \n",
       "\n",
       "     ...  Marketing  Technical Degree  Sales Executive  Research Scientist  \\\n",
       "607  ...          0                 0                0                   0   \n",
       "\n",
       "     Laboratory Technician  Manufacturing Director  Healthcare Representative  \\\n",
       "607                      0                       0                          0   \n",
       "\n",
       "     Manager  Sales Representative  Research Director  \n",
       "607        0                     0                  0  \n",
       "\n",
       "[1 rows x 43 columns]"
      ]
     },
     "execution_count": 91,
     "metadata": {},
     "output_type": "execute_result"
    }
   ],
   "source": [
    "sample_row"
   ]
  },
  {
   "cell_type": "code",
   "execution_count": 93,
   "id": "c4c55ba8",
   "metadata": {},
   "outputs": [],
   "source": [
    "# shap_values = explainer.shap_values(sample_row)\n",
    "\n",
    "#  \n",
    "# \n",
    "# \n",
    "\n",
    "# shap.initjs() #initialization of java script.\n",
    "# shap.force_plot(\n",
    "#     base_value= explainer.expected_value,\n",
    "#     shap_values=shap_values,\n",
    "#     features=sample_row\n",
    "# # "
   ]
  }
 ],
 "metadata": {
  "kernelspec": {
   "display_name": "Python 3 (ipykernel)",
   "language": "python",
   "name": "python3"
  },
  "language_info": {
   "codemirror_mode": {
    "name": "ipython",
    "version": 3
   },
   "file_extension": ".py",
   "mimetype": "text/x-python",
   "name": "python",
   "nbconvert_exporter": "python",
   "pygments_lexer": "ipython3",
   "version": "3.9.7"
  }
 },
 "nbformat": 4,
 "nbformat_minor": 5
}
